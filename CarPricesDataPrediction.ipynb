{
  "nbformat": 4,
  "nbformat_minor": 0,
  "metadata": {
    "colab": {
      "name": "CarPricesDataPrediction.ipynb",
      "provenance": []
    },
    "kernelspec": {
      "name": "python3",
      "display_name": "Python 3"
    },
    "language_info": {
      "name": "python"
    }
  },
  "cells": [
    {
      "cell_type": "markdown",
      "metadata": {
        "id": "3O3pc9Rb3gz8"
      },
      "source": [
        "#Reading Dataset"
      ]
    },
    {
      "cell_type": "code",
      "metadata": {
        "id": "Ufdi4NIjxXOt"
      },
      "source": [
        "# Supressing the warning messages\n",
        "import warnings\n",
        "warnings.filterwarnings('ignore')"
      ],
      "execution_count": 1,
      "outputs": []
    },
    {
      "cell_type": "code",
      "metadata": {
        "id": "Vg35vlTWxavL"
      },
      "source": [
        "# Reading the dataset\n",
        "import pandas as pd\n",
        "import numpy as np\n",
        "CarPricesData=pd.read_csv('/content/CarPricesData.csv')"
      ],
      "execution_count": 2,
      "outputs": []
    },
    {
      "cell_type": "code",
      "metadata": {
        "colab": {
          "base_uri": "https://localhost:8080/",
          "height": 200
        },
        "id": "2OM0m9fXxqZ6",
        "outputId": "c4330748-a88d-4331-cd26-ad89fd3f0e0e"
      },
      "source": [
        "CarPricesData.head()"
      ],
      "execution_count": 3,
      "outputs": [
        {
          "output_type": "execute_result",
          "data": {
            "text/html": [
              "<div>\n",
              "<style scoped>\n",
              "    .dataframe tbody tr th:only-of-type {\n",
              "        vertical-align: middle;\n",
              "    }\n",
              "\n",
              "    .dataframe tbody tr th {\n",
              "        vertical-align: top;\n",
              "    }\n",
              "\n",
              "    .dataframe thead th {\n",
              "        text-align: right;\n",
              "    }\n",
              "</style>\n",
              "<table border=\"1\" class=\"dataframe\">\n",
              "  <thead>\n",
              "    <tr style=\"text-align: right;\">\n",
              "      <th></th>\n",
              "      <th>Price</th>\n",
              "      <th>Age</th>\n",
              "      <th>KM</th>\n",
              "      <th>FuelType</th>\n",
              "      <th>HP</th>\n",
              "      <th>MetColor</th>\n",
              "      <th>Automatic</th>\n",
              "      <th>CC</th>\n",
              "      <th>Doors</th>\n",
              "      <th>Weight</th>\n",
              "    </tr>\n",
              "  </thead>\n",
              "  <tbody>\n",
              "    <tr>\n",
              "      <th>0</th>\n",
              "      <td>13500</td>\n",
              "      <td>23.0</td>\n",
              "      <td>46986</td>\n",
              "      <td>Diesel</td>\n",
              "      <td>90</td>\n",
              "      <td>1</td>\n",
              "      <td>0</td>\n",
              "      <td>2000.0</td>\n",
              "      <td>3</td>\n",
              "      <td>1165.0</td>\n",
              "    </tr>\n",
              "    <tr>\n",
              "      <th>1</th>\n",
              "      <td>13750</td>\n",
              "      <td>23.0</td>\n",
              "      <td>72937</td>\n",
              "      <td>Diesel</td>\n",
              "      <td>90</td>\n",
              "      <td>1</td>\n",
              "      <td>0</td>\n",
              "      <td>2000.0</td>\n",
              "      <td>3</td>\n",
              "      <td>1165.0</td>\n",
              "    </tr>\n",
              "    <tr>\n",
              "      <th>2</th>\n",
              "      <td>13950</td>\n",
              "      <td>24.0</td>\n",
              "      <td>41711</td>\n",
              "      <td>Diesel</td>\n",
              "      <td>90</td>\n",
              "      <td>1</td>\n",
              "      <td>0</td>\n",
              "      <td>2000.0</td>\n",
              "      <td>3</td>\n",
              "      <td>1165.0</td>\n",
              "    </tr>\n",
              "    <tr>\n",
              "      <th>3</th>\n",
              "      <td>14950</td>\n",
              "      <td>26.0</td>\n",
              "      <td>48000</td>\n",
              "      <td>Diesel</td>\n",
              "      <td>90</td>\n",
              "      <td>0</td>\n",
              "      <td>0</td>\n",
              "      <td>2000.0</td>\n",
              "      <td>3</td>\n",
              "      <td>1165.0</td>\n",
              "    </tr>\n",
              "    <tr>\n",
              "      <th>4</th>\n",
              "      <td>13750</td>\n",
              "      <td>30.0</td>\n",
              "      <td>38500</td>\n",
              "      <td>Diesel</td>\n",
              "      <td>90</td>\n",
              "      <td>0</td>\n",
              "      <td>0</td>\n",
              "      <td>2000.0</td>\n",
              "      <td>3</td>\n",
              "      <td>1170.0</td>\n",
              "    </tr>\n",
              "  </tbody>\n",
              "</table>\n",
              "</div>"
            ],
            "text/plain": [
              "   Price   Age     KM FuelType  HP  MetColor  Automatic      CC  Doors  Weight\n",
              "0  13500  23.0  46986   Diesel  90         1          0  2000.0      3  1165.0\n",
              "1  13750  23.0  72937   Diesel  90         1          0  2000.0      3  1165.0\n",
              "2  13950  24.0  41711   Diesel  90         1          0  2000.0      3  1165.0\n",
              "3  14950  26.0  48000   Diesel  90         0          0  2000.0      3  1165.0\n",
              "4  13750  30.0  38500   Diesel  90         0          0  2000.0      3  1170.0"
            ]
          },
          "metadata": {
            "tags": []
          },
          "execution_count": 3
        }
      ]
    },
    {
      "cell_type": "code",
      "metadata": {
        "colab": {
          "base_uri": "https://localhost:8080/"
        },
        "id": "t33pfI57xttk",
        "outputId": "3006c535-0fb1-4f4e-a884-65d28324f0d8"
      },
      "source": [
        "print('Shape before deleting duplicate values:', CarPricesData.shape)"
      ],
      "execution_count": 4,
      "outputs": [
        {
          "output_type": "stream",
          "text": [
            "Shape before deleting duplicate values: (1436, 10)\n"
          ],
          "name": "stdout"
        }
      ]
    },
    {
      "cell_type": "code",
      "metadata": {
        "colab": {
          "base_uri": "https://localhost:8080/"
        },
        "id": "jG600idfxxf5",
        "outputId": "c08400f6-a9a2-46b9-a221-a6790da88b99"
      },
      "source": [
        "# Removing duplicate rows if any\n",
        "CarPricesData=CarPricesData.drop_duplicates()\n",
        "print('Shape After deleting duplicate values:', CarPricesData.shape)"
      ],
      "execution_count": 5,
      "outputs": [
        {
          "output_type": "stream",
          "text": [
            "Shape After deleting duplicate values: (1435, 10)\n"
          ],
          "name": "stdout"
        }
      ]
    },
    {
      "cell_type": "code",
      "metadata": {
        "colab": {
          "base_uri": "https://localhost:8080/",
          "height": 283
        },
        "id": "IlSGlz0Rx0HT",
        "outputId": "0e4cf55c-da2d-477a-c4cd-0e041d833886"
      },
      "source": [
        "# Creating Bar chart as the Target variable is Continuous\n",
        "CarPricesData['Price'].hist()"
      ],
      "execution_count": 6,
      "outputs": [
        {
          "output_type": "execute_result",
          "data": {
            "text/plain": [
              "<matplotlib.axes._subplots.AxesSubplot at 0x7fd067c42e90>"
            ]
          },
          "metadata": {
            "tags": []
          },
          "execution_count": 6
        },
        {
          "output_type": "display_data",
          "data": {
            "image/png": "[encoded data removed]",
            "text/plain": [
              "<Figure size 432x288 with 1 Axes>"
            ]
          },
          "metadata": {
            "tags": [],
            "needs_background": "light"
          }
        }
      ]
    },
    {
      "cell_type": "markdown",
      "metadata": {
        "id": "dU-_VD9ByBUy"
      },
      "source": [
        "The data distribution of the target variable is satisfactory to proceed further. There are sufficient number of rows for each type of values to learn from."
      ]
    },
    {
      "cell_type": "markdown",
      "metadata": {
        "id": "Fl2d1Srn3k-0"
      },
      "source": [
        "#Data Pre Analysis and Visualization."
      ]
    },
    {
      "cell_type": "code",
      "metadata": {
        "colab": {
          "base_uri": "https://localhost:8080/"
        },
        "id": "iVbfKcFHx6yL",
        "outputId": "e3ff4120-f77c-4d80-b034-af5de1a3038b"
      },
      "source": [
        "CarPricesData.info()"
      ],
      "execution_count": 7,
      "outputs": [
        {
          "output_type": "stream",
          "text": [
            "<class 'pandas.core.frame.DataFrame'>\n",
            "Int64Index: 1435 entries, 0 to 1435\n",
            "Data columns (total 10 columns):\n",
            " #   Column     Non-Null Count  Dtype  \n",
            "---  ------     --------------  -----  \n",
            " 0   Price      1435 non-null   int64  \n",
            " 1   Age        1433 non-null   float64\n",
            " 2   KM         1435 non-null   int64  \n",
            " 3   FuelType   1431 non-null   object \n",
            " 4   HP         1435 non-null   int64  \n",
            " 5   MetColor   1435 non-null   int64  \n",
            " 6   Automatic  1435 non-null   int64  \n",
            " 7   CC         1433 non-null   float64\n",
            " 8   Doors      1435 non-null   int64  \n",
            " 9   Weight     1433 non-null   float64\n",
            "dtypes: float64(3), int64(6), object(1)\n",
            "memory usage: 123.3+ KB\n"
          ],
          "name": "stdout"
        }
      ]
    },
    {
      "cell_type": "markdown",
      "metadata": {
        "id": "axWBbQ1ayIWa"
      },
      "source": [
        "So,There are some missing values which will be treated later."
      ]
    },
    {
      "cell_type": "code",
      "metadata": {
        "colab": {
          "base_uri": "https://localhost:8080/",
          "height": 402
        },
        "id": "VYz_BQNFyFnb",
        "outputId": "9b8b4fbb-b68c-4d61-e610-5cf66f715551"
      },
      "source": [
        "# Looking at the descriptive statistics of the data\n",
        "CarPricesData.describe(include='all')"
      ],
      "execution_count": 8,
      "outputs": [
        {
          "output_type": "execute_result",
          "data": {
            "text/html": [
              "<div>\n",
              "<style scoped>\n",
              "    .dataframe tbody tr th:only-of-type {\n",
              "        vertical-align: middle;\n",
              "    }\n",
              "\n",
              "    .dataframe tbody tr th {\n",
              "        vertical-align: top;\n",
              "    }\n",
              "\n",
              "    .dataframe thead th {\n",
              "        text-align: right;\n",
              "    }\n",
              "</style>\n",
              "<table border=\"1\" class=\"dataframe\">\n",
              "  <thead>\n",
              "    <tr style=\"text-align: right;\">\n",
              "      <th></th>\n",
              "      <th>Price</th>\n",
              "      <th>Age</th>\n",
              "      <th>KM</th>\n",
              "      <th>FuelType</th>\n",
              "      <th>HP</th>\n",
              "      <th>MetColor</th>\n",
              "      <th>Automatic</th>\n",
              "      <th>CC</th>\n",
              "      <th>Doors</th>\n",
              "      <th>Weight</th>\n",
              "    </tr>\n",
              "  </thead>\n",
              "  <tbody>\n",
              "    <tr>\n",
              "      <th>count</th>\n",
              "      <td>1435.000000</td>\n",
              "      <td>1433.000000</td>\n",
              "      <td>1435.000000</td>\n",
              "      <td>1431</td>\n",
              "      <td>1435.000000</td>\n",
              "      <td>1435.000000</td>\n",
              "      <td>1435.000000</td>\n",
              "      <td>1433.000000</td>\n",
              "      <td>1435.000000</td>\n",
              "      <td>1433.000000</td>\n",
              "    </tr>\n",
              "    <tr>\n",
              "      <th>unique</th>\n",
              "      <td>NaN</td>\n",
              "      <td>NaN</td>\n",
              "      <td>NaN</td>\n",
              "      <td>3</td>\n",
              "      <td>NaN</td>\n",
              "      <td>NaN</td>\n",
              "      <td>NaN</td>\n",
              "      <td>NaN</td>\n",
              "      <td>NaN</td>\n",
              "      <td>NaN</td>\n",
              "    </tr>\n",
              "    <tr>\n",
              "      <th>top</th>\n",
              "      <td>NaN</td>\n",
              "      <td>NaN</td>\n",
              "      <td>NaN</td>\n",
              "      <td>Petrol</td>\n",
              "      <td>NaN</td>\n",
              "      <td>NaN</td>\n",
              "      <td>NaN</td>\n",
              "      <td>NaN</td>\n",
              "      <td>NaN</td>\n",
              "      <td>NaN</td>\n",
              "    </tr>\n",
              "    <tr>\n",
              "      <th>freq</th>\n",
              "      <td>NaN</td>\n",
              "      <td>NaN</td>\n",
              "      <td>NaN</td>\n",
              "      <td>1260</td>\n",
              "      <td>NaN</td>\n",
              "      <td>NaN</td>\n",
              "      <td>NaN</td>\n",
              "      <td>NaN</td>\n",
              "      <td>NaN</td>\n",
              "      <td>NaN</td>\n",
              "    </tr>\n",
              "    <tr>\n",
              "      <th>mean</th>\n",
              "      <td>10720.915679</td>\n",
              "      <td>56.020237</td>\n",
              "      <td>68571.782578</td>\n",
              "      <td>NaN</td>\n",
              "      <td>101.491986</td>\n",
              "      <td>0.674564</td>\n",
              "      <td>0.055749</td>\n",
              "      <td>1566.688765</td>\n",
              "      <td>4.032753</td>\n",
              "      <td>1072.314724</td>\n",
              "    </tr>\n",
              "    <tr>\n",
              "      <th>std</th>\n",
              "      <td>3608.732978</td>\n",
              "      <td>18.544948</td>\n",
              "      <td>37491.094553</td>\n",
              "      <td>NaN</td>\n",
              "      <td>14.981408</td>\n",
              "      <td>0.468701</td>\n",
              "      <td>0.229517</td>\n",
              "      <td>186.893360</td>\n",
              "      <td>0.952667</td>\n",
              "      <td>52.283038</td>\n",
              "    </tr>\n",
              "    <tr>\n",
              "      <th>min</th>\n",
              "      <td>4350.000000</td>\n",
              "      <td>1.000000</td>\n",
              "      <td>1.000000</td>\n",
              "      <td>NaN</td>\n",
              "      <td>69.000000</td>\n",
              "      <td>0.000000</td>\n",
              "      <td>0.000000</td>\n",
              "      <td>1300.000000</td>\n",
              "      <td>2.000000</td>\n",
              "      <td>1000.000000</td>\n",
              "    </tr>\n",
              "    <tr>\n",
              "      <th>25%</th>\n",
              "      <td>8450.000000</td>\n",
              "      <td>44.000000</td>\n",
              "      <td>43000.000000</td>\n",
              "      <td>NaN</td>\n",
              "      <td>90.000000</td>\n",
              "      <td>0.000000</td>\n",
              "      <td>0.000000</td>\n",
              "      <td>1400.000000</td>\n",
              "      <td>3.000000</td>\n",
              "      <td>1040.000000</td>\n",
              "    </tr>\n",
              "    <tr>\n",
              "      <th>50%</th>\n",
              "      <td>9900.000000</td>\n",
              "      <td>61.000000</td>\n",
              "      <td>63451.000000</td>\n",
              "      <td>NaN</td>\n",
              "      <td>110.000000</td>\n",
              "      <td>1.000000</td>\n",
              "      <td>0.000000</td>\n",
              "      <td>1600.000000</td>\n",
              "      <td>4.000000</td>\n",
              "      <td>1070.000000</td>\n",
              "    </tr>\n",
              "    <tr>\n",
              "      <th>75%</th>\n",
              "      <td>11950.000000</td>\n",
              "      <td>70.000000</td>\n",
              "      <td>87041.500000</td>\n",
              "      <td>NaN</td>\n",
              "      <td>110.000000</td>\n",
              "      <td>1.000000</td>\n",
              "      <td>0.000000</td>\n",
              "      <td>1600.000000</td>\n",
              "      <td>5.000000</td>\n",
              "      <td>1085.000000</td>\n",
              "    </tr>\n",
              "    <tr>\n",
              "      <th>max</th>\n",
              "      <td>32500.000000</td>\n",
              "      <td>80.000000</td>\n",
              "      <td>243000.000000</td>\n",
              "      <td>NaN</td>\n",
              "      <td>192.000000</td>\n",
              "      <td>1.000000</td>\n",
              "      <td>1.000000</td>\n",
              "      <td>2000.000000</td>\n",
              "      <td>5.000000</td>\n",
              "      <td>1615.000000</td>\n",
              "    </tr>\n",
              "  </tbody>\n",
              "</table>\n",
              "</div>"
            ],
            "text/plain": [
              "               Price          Age  ...        Doors       Weight\n",
              "count    1435.000000  1433.000000  ...  1435.000000  1433.000000\n",
              "unique           NaN          NaN  ...          NaN          NaN\n",
              "top              NaN          NaN  ...          NaN          NaN\n",
              "freq             NaN          NaN  ...          NaN          NaN\n",
              "mean    10720.915679    56.020237  ...     4.032753  1072.314724\n",
              "std      3608.732978    18.544948  ...     0.952667    52.283038\n",
              "min      4350.000000     1.000000  ...     2.000000  1000.000000\n",
              "25%      8450.000000    44.000000  ...     3.000000  1040.000000\n",
              "50%      9900.000000    61.000000  ...     4.000000  1070.000000\n",
              "75%     11950.000000    70.000000  ...     5.000000  1085.000000\n",
              "max     32500.000000    80.000000  ...     5.000000  1615.000000\n",
              "\n",
              "[11 rows x 10 columns]"
            ]
          },
          "metadata": {
            "tags": []
          },
          "execution_count": 8
        }
      ]
    },
    {
      "cell_type": "code",
      "metadata": {
        "colab": {
          "base_uri": "https://localhost:8080/"
        },
        "id": "TLYm3wUMyS6N",
        "outputId": "a09ee4d1-fa6b-4737-d838-8d9b57f29766"
      },
      "source": [
        "CarPricesData.nunique()"
      ],
      "execution_count": 9,
      "outputs": [
        {
          "output_type": "execute_result",
          "data": {
            "text/plain": [
              "Price         236\n",
              "Age            77\n",
              "KM           1263\n",
              "FuelType        3\n",
              "HP             12\n",
              "MetColor        2\n",
              "Automatic       2\n",
              "CC             12\n",
              "Doors           4\n",
              "Weight         59\n",
              "dtype: int64"
            ]
          },
          "metadata": {
            "tags": []
          },
          "execution_count": 9
        }
      ]
    },
    {
      "cell_type": "code",
      "metadata": {
        "id": "DsQqlRl3yWAo"
      },
      "source": [
        "def PlotBarCharts(inpData, colsToPlot):\n",
        "    %matplotlib inline\n",
        "    \n",
        "    import matplotlib.pyplot as plt\n",
        "    \n",
        "    # Generating multiple subplots\n",
        "    fig, subPlot=plt.subplots(nrows=1, ncols=len(colsToPlot), figsize=(30,10))\n",
        "    fig.suptitle('Bar charts of: '+ str(colsToPlot))\n",
        "\n",
        "    for colName, plotNumber in zip(colsToPlot, range(len(colsToPlot))):\n",
        "        inpData.groupby(colName).size().plot(kind='bar',ax=subPlot[plotNumber])"
      ],
      "execution_count": 18,
      "outputs": []
    },
    {
      "cell_type": "code",
      "metadata": {
        "colab": {
          "base_uri": "https://localhost:8080/",
          "height": 722
        },
        "id": "WrwfdAwEybmX",
        "outputId": "8dd0d6e8-e047-4b4b-89a7-7048d8329862"
      },
      "source": [
        "#Plotting all the categorical features' characteristics\n",
        "PlotBarCharts(inpData=CarPricesData, colsToPlot=['FuelType', 'HP', 'MetColor', \n",
        "                                                 'Automatic', 'CC', 'Doors'])"
      ],
      "execution_count": 19,
      "outputs": [
        {
          "output_type": "display_data",
          "data": {
            "image/png": "[encoded data removed]",
            "text/plain": [
              "<Figure size 2160x720 with 6 Axes>"
            ]
          },
          "metadata": {
            "tags": [],
            "needs_background": "light"
          }
        }
      ]
    },
    {
      "cell_type": "code",
      "metadata": {
        "colab": {
          "base_uri": "https://localhost:8080/",
          "height": 666
        },
        "id": "mUmX8xpKyz0s",
        "outputId": "a0caf945-c460-4ae5-f2ca-f387911db7aa"
      },
      "source": [
        "# Plotting histograms of multiple continuous columns together\n",
        "CarPricesData.hist(['Age','KM','Weight'], figsize=(18,10))"
      ],
      "execution_count": 20,
      "outputs": [
        {
          "output_type": "execute_result",
          "data": {
            "text/plain": [
              "array([[<matplotlib.axes._subplots.AxesSubplot object at 0x7fd0608aff90>,\n",
              "        <matplotlib.axes._subplots.AxesSubplot object at 0x7fd060873610>],\n",
              "       [<matplotlib.axes._subplots.AxesSubplot object at 0x7fd060826a90>,\n",
              "        <matplotlib.axes._subplots.AxesSubplot object at 0x7fd0607dafd0>]],\n",
              "      dtype=object)"
            ]
          },
          "metadata": {
            "tags": []
          },
          "execution_count": 20
        },
        {
          "output_type": "display_data",
          "data": {
            "image/png": "[encoded data removed]",
            "text/plain": [
              "<Figure size 1296x720 with 4 Axes>"
            ]
          },
          "metadata": {
            "tags": [],
            "needs_background": "light"
          }
        }
      ]
    },
    {
      "cell_type": "code",
      "metadata": {
        "colab": {
          "base_uri": "https://localhost:8080/"
        },
        "id": "jVtQsFrszRCN",
        "outputId": "acce4bd2-ef4e-4291-fbc1-afa8b9064bb8"
      },
      "source": [
        "# Finding logical value near 1400\n",
        "CarPricesData['Weight'][CarPricesData['Weight']<1400].sort_values(ascending=False)"
      ],
      "execution_count": 21,
      "outputs": [
        {
          "output_type": "execute_result",
          "data": {
            "text/plain": [
              "138     1320.0\n",
              "112     1320.0\n",
              "115     1280.0\n",
              "68      1275.0\n",
              "119     1275.0\n",
              "         ...  \n",
              "690     1000.0\n",
              "1410    1000.0\n",
              "957     1000.0\n",
              "927     1000.0\n",
              "1000    1000.0\n",
              "Name: Weight, Length: 1428, dtype: float64"
            ]
          },
          "metadata": {
            "tags": []
          },
          "execution_count": 21
        }
      ]
    },
    {
      "cell_type": "code",
      "metadata": {
        "id": "IpQrZPPXzWCW"
      },
      "source": [
        "# Replacing outliers with nearest logical value\n",
        "CarPricesData['Weight'][CarPricesData['Weight']>1400]=1320"
      ],
      "execution_count": 21,
      "outputs": []
    },
    {
      "cell_type": "code",
      "metadata": {
        "colab": {
          "base_uri": "https://localhost:8080/",
          "height": 283
        },
        "id": "4mnm_3vFzb-a",
        "outputId": "30fc045d-5f61-4dd6-c39c-5b2f919da171"
      },
      "source": [
        "# Histogram for weight after outlier treatment\n",
        "CarPricesData['Weight'].hist()"
      ],
      "execution_count": 22,
      "outputs": [
        {
          "output_type": "execute_result",
          "data": {
            "text/plain": [
              "<matplotlib.axes._subplots.AxesSubplot at 0x7fd06092f850>"
            ]
          },
          "metadata": {
            "tags": []
          },
          "execution_count": 22
        },
        {
          "output_type": "display_data",
          "data": {
            "image/png": "[encoded data removed]",
            "text/plain": [
              "<Figure size 432x288 with 1 Axes>"
            ]
          },
          "metadata": {
            "tags": [],
            "needs_background": "light"
          }
        }
      ]
    },
    {
      "cell_type": "code",
      "metadata": {
        "colab": {
          "base_uri": "https://localhost:8080/"
        },
        "id": "vaMo1LDLzbyC",
        "outputId": "21f87648-932c-4fc1-d388-f098ce8a2d79"
      },
      "source": [
        "# Finding how many missing values are there for each column\n",
        "CarPricesData.isnull().sum()"
      ],
      "execution_count": 23,
      "outputs": [
        {
          "output_type": "execute_result",
          "data": {
            "text/plain": [
              "Price        0\n",
              "Age          2\n",
              "KM           0\n",
              "FuelType     4\n",
              "HP           0\n",
              "MetColor     0\n",
              "Automatic    0\n",
              "CC           2\n",
              "Doors        0\n",
              "Weight       2\n",
              "dtype: int64"
            ]
          },
          "metadata": {
            "tags": []
          },
          "execution_count": 23
        }
      ]
    },
    {
      "cell_type": "markdown",
      "metadata": {
        "id": "1quVqZ_6zkPS"
      },
      "source": [
        "I am treating missing values with Median for Continuous values, and Mode for categorical values."
      ]
    },
    {
      "cell_type": "code",
      "metadata": {
        "id": "OczaPLzyzbkq"
      },
      "source": [
        "# Treating missing values of categorical variable with MODE value\n",
        "CarPricesData['FuelType'].fillna(value=CarPricesData['FuelType'].mode()[0], inplace=True)\n",
        "CarPricesData['CC'].fillna(value=CarPricesData['CC'].mode()[0], inplace=True)"
      ],
      "execution_count": 24,
      "outputs": []
    },
    {
      "cell_type": "code",
      "metadata": {
        "id": "bdTQwzT6z0x1"
      },
      "source": [
        "# Treating missing values of continuous variable with Median value\n",
        "CarPricesData['Weight'].fillna(value=CarPricesData['Weight'].median(), inplace=True)\n",
        "CarPricesData['Age'].fillna(value=CarPricesData['Age'].median(), inplace=True)"
      ],
      "execution_count": 25,
      "outputs": []
    },
    {
      "cell_type": "code",
      "metadata": {
        "colab": {
          "base_uri": "https://localhost:8080/"
        },
        "id": "CyoB9m8Az3Wg",
        "outputId": "9e1b60b8-5c11-4d90-bca2-fc69736a272d"
      },
      "source": [
        "# Checking missing values again after the treatment\n",
        "CarPricesData.isnull().sum()"
      ],
      "execution_count": 26,
      "outputs": [
        {
          "output_type": "execute_result",
          "data": {
            "text/plain": [
              "Price        0\n",
              "Age          0\n",
              "KM           0\n",
              "FuelType     0\n",
              "HP           0\n",
              "MetColor     0\n",
              "Automatic    0\n",
              "CC           0\n",
              "Doors        0\n",
              "Weight       0\n",
              "dtype: int64"
            ]
          },
          "metadata": {
            "tags": []
          },
          "execution_count": 26
        }
      ]
    },
    {
      "cell_type": "markdown",
      "metadata": {
        "id": "2ASMlqIWz-Wa"
      },
      "source": [
        "#Feature Selection"
      ]
    },
    {
      "cell_type": "code",
      "metadata": {
        "colab": {
          "base_uri": "https://localhost:8080/",
          "height": 1000
        },
        "id": "qhmTP29ez5oh",
        "outputId": "abfe72f1-90c4-4daf-92c1-48e6064f5227"
      },
      "source": [
        "ContinuousCols=['Age','KM','Weight']\n",
        "\n",
        "# Plotting scatter chart for each predictor vs the target variable\n",
        "for predictor in ContinuousCols:\n",
        "    CarPricesData.plot.scatter(x=predictor, y='Price', figsize=(10,5), title=predictor+\" VS \"+ 'Price')"
      ],
      "execution_count": 27,
      "outputs": [
        {
          "output_type": "display_data",
          "data": {
            "image/png": "[encoded data removed]",
            "text/plain": [
              "<Figure size 720x360 with 1 Axes>"
            ]
          },
          "metadata": {
            "tags": [],
            "needs_background": "light"
          }
        },
        {
          "output_type": "display_data",
          "data": {
            "image/png": "[encoded data removed]",
            "text/plain": [
              "<Figure size 720x360 with 1 Axes>"
            ]
          },
          "metadata": {
            "tags": [],
            "needs_background": "light"
          }
        },
        {
          "output_type": "display_data",
          "data": {
            "image/png": "[encoded data removed]",
            "text/plain": [
              "<Figure size 720x360 with 1 Axes>"
            ]
          },
          "metadata": {
            "tags": [],
            "needs_background": "light"
          }
        }
      ]
    },
    {
      "cell_type": "code",
      "metadata": {
        "colab": {
          "base_uri": "https://localhost:8080/",
          "height": 170
        },
        "id": "Cy_v043Mz9Uf",
        "outputId": "27f60a57-6424-4a9d-8089-3c35b767b67d"
      },
      "source": [
        "# Calculating correlation matrix\n",
        "ContinuousCols=['Price','Age','KM','Weight']\n",
        "\n",
        "# Creating the correlation matrix\n",
        "CorrelationData=CarPricesData[ContinuousCols].corr()\n",
        "CorrelationData"
      ],
      "execution_count": 28,
      "outputs": [
        {
          "output_type": "execute_result",
          "data": {
            "text/html": [
              "<div>\n",
              "<style scoped>\n",
              "    .dataframe tbody tr th:only-of-type {\n",
              "        vertical-align: middle;\n",
              "    }\n",
              "\n",
              "    .dataframe tbody tr th {\n",
              "        vertical-align: top;\n",
              "    }\n",
              "\n",
              "    .dataframe thead th {\n",
              "        text-align: right;\n",
              "    }\n",
              "</style>\n",
              "<table border=\"1\" class=\"dataframe\">\n",
              "  <thead>\n",
              "    <tr style=\"text-align: right;\">\n",
              "      <th></th>\n",
              "      <th>Price</th>\n",
              "      <th>Age</th>\n",
              "      <th>KM</th>\n",
              "      <th>Weight</th>\n",
              "    </tr>\n",
              "  </thead>\n",
              "  <tbody>\n",
              "    <tr>\n",
              "      <th>Price</th>\n",
              "      <td>1.000000</td>\n",
              "      <td>-0.874196</td>\n",
              "      <td>-0.569420</td>\n",
              "      <td>0.575767</td>\n",
              "    </tr>\n",
              "    <tr>\n",
              "      <th>Age</th>\n",
              "      <td>-0.874196</td>\n",
              "      <td>1.000000</td>\n",
              "      <td>0.502604</td>\n",
              "      <td>-0.465113</td>\n",
              "    </tr>\n",
              "    <tr>\n",
              "      <th>KM</th>\n",
              "      <td>-0.569420</td>\n",
              "      <td>0.502604</td>\n",
              "      <td>1.000000</td>\n",
              "      <td>-0.024248</td>\n",
              "    </tr>\n",
              "    <tr>\n",
              "      <th>Weight</th>\n",
              "      <td>0.575767</td>\n",
              "      <td>-0.465113</td>\n",
              "      <td>-0.024248</td>\n",
              "      <td>1.000000</td>\n",
              "    </tr>\n",
              "  </tbody>\n",
              "</table>\n",
              "</div>"
            ],
            "text/plain": [
              "           Price       Age        KM    Weight\n",
              "Price   1.000000 -0.874196 -0.569420  0.575767\n",
              "Age    -0.874196  1.000000  0.502604 -0.465113\n",
              "KM     -0.569420  0.502604  1.000000 -0.024248\n",
              "Weight  0.575767 -0.465113 -0.024248  1.000000"
            ]
          },
          "metadata": {
            "tags": []
          },
          "execution_count": 28
        }
      ]
    },
    {
      "cell_type": "code",
      "metadata": {
        "colab": {
          "base_uri": "https://localhost:8080/"
        },
        "id": "aiXjrY8F0ERl",
        "outputId": "9171ccaf-2209-49f4-dd0a-d24ee06d0020"
      },
      "source": [
        "# Filtering only those columns where absolute correlation > 0.5 with Target Variable, as here considering thresold 0.5\n",
        "#there are columns to consider.\n",
        "CorrelationData['Price'][abs(CorrelationData['Price']) > 0.5 ]"
      ],
      "execution_count": 29,
      "outputs": [
        {
          "output_type": "execute_result",
          "data": {
            "text/plain": [
              "Price     1.000000\n",
              "Age      -0.874196\n",
              "KM       -0.569420\n",
              "Weight    0.575767\n",
              "Name: Price, dtype: float64"
            ]
          },
          "metadata": {
            "tags": []
          },
          "execution_count": 29
        }
      ]
    },
    {
      "cell_type": "code",
      "metadata": {
        "id": "fQDXRt1l0UeV"
      },
      "source": [
        "# Defining a function to find the statistical relationship with all the categorical variables\n",
        "def FunctionAnova(inpData, TargetVariable, CategoricalPredictorList):\n",
        "    from scipy.stats import f_oneway\n",
        "\n",
        "    # Creating an empty list of final selected predictors\n",
        "    SelectedPredictors=[]\n",
        "    \n",
        "    print('##### ANOVA Results ##### \\n')\n",
        "    for predictor in CategoricalPredictorList:\n",
        "        CategoryGroupLists=inpData.groupby(predictor)[TargetVariable].apply(list)\n",
        "        AnovaResults = f_oneway(*CategoryGroupLists)\n",
        "        \n",
        "        # If the ANOVA P-Value is <0.05, that means we reject H0\n",
        "        if (AnovaResults[1] < 0.05):\n",
        "            print(predictor, 'is correlated with', TargetVariable, '| P-Value:', AnovaResults[1])\n",
        "            SelectedPredictors.append(predictor)\n",
        "        else:\n",
        "            print(predictor, 'is NOT correlated with', TargetVariable, '| P-Value:', AnovaResults[1])\n",
        "    \n",
        "    return(SelectedPredictors)"
      ],
      "execution_count": 30,
      "outputs": []
    },
    {
      "cell_type": "code",
      "metadata": {
        "colab": {
          "base_uri": "https://localhost:8080/"
        },
        "id": "fULXuGaS0ZTx",
        "outputId": "4ea14704-930c-4700-e40f-fd6c31886d08"
      },
      "source": [
        "# Calling the function to check which categorical variables are correlated with target\n",
        "# Calling the function to check which categorical variables are correlated with target\n",
        "CategoricalPredictorList=['FuelType', 'HP', 'MetColor', 'Automatic', 'CC', 'Doors']\n",
        "FunctionAnova(inpData=CarPricesData, \n",
        "              TargetVariable='Price', \n",
        "              CategoricalPredictorList=CategoricalPredictorList)"
      ],
      "execution_count": 31,
      "outputs": [
        {
          "output_type": "stream",
          "text": [
            "##### ANOVA Results ##### \n",
            "\n",
            "FuelType is NOT correlated with Price | P-Value: 0.07590511356326429\n",
            "HP is correlated with Price | P-Value: 4.403061434008212e-109\n",
            "MetColor is correlated with Price | P-Value: 4.4173957971674025e-05\n",
            "Automatic is NOT correlated with Price | P-Value: 0.19897717506836016\n",
            "CC is correlated with Price | P-Value: 2.566835080246702e-47\n",
            "Doors is correlated with Price | P-Value: 9.51180734144394e-13\n"
          ],
          "name": "stdout"
        },
        {
          "output_type": "execute_result",
          "data": {
            "text/plain": [
              "['HP', 'MetColor', 'CC', 'Doors']"
            ]
          },
          "metadata": {
            "tags": []
          },
          "execution_count": 31
        }
      ]
    },
    {
      "cell_type": "code",
      "metadata": {
        "colab": {
          "base_uri": "https://localhost:8080/",
          "height": 200
        },
        "id": "9wffHXCo0c_E",
        "outputId": "9b492672-dd3b-47b1-9919-1393929f3a46"
      },
      "source": [
        "#Selecting the useful features.\n",
        "SelectedColumns=['Age','KM','Weight','HP', 'MetColor', 'CC', 'Doors']\n",
        "\n",
        "# Selecting final columns\n",
        "DataForML=CarPricesData[SelectedColumns]\n",
        "DataForML.head()"
      ],
      "execution_count": 32,
      "outputs": [
        {
          "output_type": "execute_result",
          "data": {
            "text/html": [
              "<div>\n",
              "<style scoped>\n",
              "    .dataframe tbody tr th:only-of-type {\n",
              "        vertical-align: middle;\n",
              "    }\n",
              "\n",
              "    .dataframe tbody tr th {\n",
              "        vertical-align: top;\n",
              "    }\n",
              "\n",
              "    .dataframe thead th {\n",
              "        text-align: right;\n",
              "    }\n",
              "</style>\n",
              "<table border=\"1\" class=\"dataframe\">\n",
              "  <thead>\n",
              "    <tr style=\"text-align: right;\">\n",
              "      <th></th>\n",
              "      <th>Age</th>\n",
              "      <th>KM</th>\n",
              "      <th>Weight</th>\n",
              "      <th>HP</th>\n",
              "      <th>MetColor</th>\n",
              "      <th>CC</th>\n",
              "      <th>Doors</th>\n",
              "    </tr>\n",
              "  </thead>\n",
              "  <tbody>\n",
              "    <tr>\n",
              "      <th>0</th>\n",
              "      <td>23.0</td>\n",
              "      <td>46986</td>\n",
              "      <td>1165.0</td>\n",
              "      <td>90</td>\n",
              "      <td>1</td>\n",
              "      <td>2000.0</td>\n",
              "      <td>3</td>\n",
              "    </tr>\n",
              "    <tr>\n",
              "      <th>1</th>\n",
              "      <td>23.0</td>\n",
              "      <td>72937</td>\n",
              "      <td>1165.0</td>\n",
              "      <td>90</td>\n",
              "      <td>1</td>\n",
              "      <td>2000.0</td>\n",
              "      <td>3</td>\n",
              "    </tr>\n",
              "    <tr>\n",
              "      <th>2</th>\n",
              "      <td>24.0</td>\n",
              "      <td>41711</td>\n",
              "      <td>1165.0</td>\n",
              "      <td>90</td>\n",
              "      <td>1</td>\n",
              "      <td>2000.0</td>\n",
              "      <td>3</td>\n",
              "    </tr>\n",
              "    <tr>\n",
              "      <th>3</th>\n",
              "      <td>26.0</td>\n",
              "      <td>48000</td>\n",
              "      <td>1165.0</td>\n",
              "      <td>90</td>\n",
              "      <td>0</td>\n",
              "      <td>2000.0</td>\n",
              "      <td>3</td>\n",
              "    </tr>\n",
              "    <tr>\n",
              "      <th>4</th>\n",
              "      <td>30.0</td>\n",
              "      <td>38500</td>\n",
              "      <td>1170.0</td>\n",
              "      <td>90</td>\n",
              "      <td>0</td>\n",
              "      <td>2000.0</td>\n",
              "      <td>3</td>\n",
              "    </tr>\n",
              "  </tbody>\n",
              "</table>\n",
              "</div>"
            ],
            "text/plain": [
              "    Age     KM  Weight  HP  MetColor      CC  Doors\n",
              "0  23.0  46986  1165.0  90         1  2000.0      3\n",
              "1  23.0  72937  1165.0  90         1  2000.0      3\n",
              "2  24.0  41711  1165.0  90         1  2000.0      3\n",
              "3  26.0  48000  1165.0  90         0  2000.0      3\n",
              "4  30.0  38500  1170.0  90         0  2000.0      3"
            ]
          },
          "metadata": {
            "tags": []
          },
          "execution_count": 32
        }
      ]
    },
    {
      "cell_type": "code",
      "metadata": {
        "colab": {
          "base_uri": "https://localhost:8080/",
          "height": 411
        },
        "id": "ba0yJxxR0-it",
        "outputId": "9a487066-77f3-4c45-c438-f1a2beb64956"
      },
      "source": [
        "CarPricesData"
      ],
      "execution_count": 36,
      "outputs": [
        {
          "output_type": "execute_result",
          "data": {
            "text/html": [
              "<div>\n",
              "<style scoped>\n",
              "    .dataframe tbody tr th:only-of-type {\n",
              "        vertical-align: middle;\n",
              "    }\n",
              "\n",
              "    .dataframe tbody tr th {\n",
              "        vertical-align: top;\n",
              "    }\n",
              "\n",
              "    .dataframe thead th {\n",
              "        text-align: right;\n",
              "    }\n",
              "</style>\n",
              "<table border=\"1\" class=\"dataframe\">\n",
              "  <thead>\n",
              "    <tr style=\"text-align: right;\">\n",
              "      <th></th>\n",
              "      <th>Price</th>\n",
              "      <th>Age</th>\n",
              "      <th>KM</th>\n",
              "      <th>FuelType</th>\n",
              "      <th>HP</th>\n",
              "      <th>MetColor</th>\n",
              "      <th>Automatic</th>\n",
              "      <th>CC</th>\n",
              "      <th>Doors</th>\n",
              "      <th>Weight</th>\n",
              "    </tr>\n",
              "  </thead>\n",
              "  <tbody>\n",
              "    <tr>\n",
              "      <th>0</th>\n",
              "      <td>13500</td>\n",
              "      <td>23.0</td>\n",
              "      <td>46986</td>\n",
              "      <td>Diesel</td>\n",
              "      <td>90</td>\n",
              "      <td>1</td>\n",
              "      <td>0</td>\n",
              "      <td>2000.0</td>\n",
              "      <td>3</td>\n",
              "      <td>1165.0</td>\n",
              "    </tr>\n",
              "    <tr>\n",
              "      <th>1</th>\n",
              "      <td>13750</td>\n",
              "      <td>23.0</td>\n",
              "      <td>72937</td>\n",
              "      <td>Diesel</td>\n",
              "      <td>90</td>\n",
              "      <td>1</td>\n",
              "      <td>0</td>\n",
              "      <td>2000.0</td>\n",
              "      <td>3</td>\n",
              "      <td>1165.0</td>\n",
              "    </tr>\n",
              "    <tr>\n",
              "      <th>2</th>\n",
              "      <td>13950</td>\n",
              "      <td>24.0</td>\n",
              "      <td>41711</td>\n",
              "      <td>Diesel</td>\n",
              "      <td>90</td>\n",
              "      <td>1</td>\n",
              "      <td>0</td>\n",
              "      <td>2000.0</td>\n",
              "      <td>3</td>\n",
              "      <td>1165.0</td>\n",
              "    </tr>\n",
              "    <tr>\n",
              "      <th>3</th>\n",
              "      <td>14950</td>\n",
              "      <td>26.0</td>\n",
              "      <td>48000</td>\n",
              "      <td>Diesel</td>\n",
              "      <td>90</td>\n",
              "      <td>0</td>\n",
              "      <td>0</td>\n",
              "      <td>2000.0</td>\n",
              "      <td>3</td>\n",
              "      <td>1165.0</td>\n",
              "    </tr>\n",
              "    <tr>\n",
              "      <th>4</th>\n",
              "      <td>13750</td>\n",
              "      <td>30.0</td>\n",
              "      <td>38500</td>\n",
              "      <td>Diesel</td>\n",
              "      <td>90</td>\n",
              "      <td>0</td>\n",
              "      <td>0</td>\n",
              "      <td>2000.0</td>\n",
              "      <td>3</td>\n",
              "      <td>1170.0</td>\n",
              "    </tr>\n",
              "    <tr>\n",
              "      <th>...</th>\n",
              "      <td>...</td>\n",
              "      <td>...</td>\n",
              "      <td>...</td>\n",
              "      <td>...</td>\n",
              "      <td>...</td>\n",
              "      <td>...</td>\n",
              "      <td>...</td>\n",
              "      <td>...</td>\n",
              "      <td>...</td>\n",
              "      <td>...</td>\n",
              "    </tr>\n",
              "    <tr>\n",
              "      <th>1431</th>\n",
              "      <td>7500</td>\n",
              "      <td>69.0</td>\n",
              "      <td>20544</td>\n",
              "      <td>Petrol</td>\n",
              "      <td>86</td>\n",
              "      <td>1</td>\n",
              "      <td>0</td>\n",
              "      <td>1300.0</td>\n",
              "      <td>3</td>\n",
              "      <td>1025.0</td>\n",
              "    </tr>\n",
              "    <tr>\n",
              "      <th>1432</th>\n",
              "      <td>10845</td>\n",
              "      <td>72.0</td>\n",
              "      <td>19000</td>\n",
              "      <td>Petrol</td>\n",
              "      <td>86</td>\n",
              "      <td>0</td>\n",
              "      <td>0</td>\n",
              "      <td>1300.0</td>\n",
              "      <td>3</td>\n",
              "      <td>1015.0</td>\n",
              "    </tr>\n",
              "    <tr>\n",
              "      <th>1433</th>\n",
              "      <td>8500</td>\n",
              "      <td>71.0</td>\n",
              "      <td>17016</td>\n",
              "      <td>Petrol</td>\n",
              "      <td>86</td>\n",
              "      <td>0</td>\n",
              "      <td>0</td>\n",
              "      <td>1300.0</td>\n",
              "      <td>3</td>\n",
              "      <td>1015.0</td>\n",
              "    </tr>\n",
              "    <tr>\n",
              "      <th>1434</th>\n",
              "      <td>7250</td>\n",
              "      <td>70.0</td>\n",
              "      <td>16916</td>\n",
              "      <td>Petrol</td>\n",
              "      <td>86</td>\n",
              "      <td>1</td>\n",
              "      <td>0</td>\n",
              "      <td>1300.0</td>\n",
              "      <td>3</td>\n",
              "      <td>1015.0</td>\n",
              "    </tr>\n",
              "    <tr>\n",
              "      <th>1435</th>\n",
              "      <td>6950</td>\n",
              "      <td>76.0</td>\n",
              "      <td>1</td>\n",
              "      <td>Petrol</td>\n",
              "      <td>110</td>\n",
              "      <td>0</td>\n",
              "      <td>0</td>\n",
              "      <td>1600.0</td>\n",
              "      <td>5</td>\n",
              "      <td>1114.0</td>\n",
              "    </tr>\n",
              "  </tbody>\n",
              "</table>\n",
              "<p>1435 rows × 10 columns</p>\n",
              "</div>"
            ],
            "text/plain": [
              "      Price   Age     KM FuelType  ...  Automatic      CC  Doors  Weight\n",
              "0     13500  23.0  46986   Diesel  ...          0  2000.0      3  1165.0\n",
              "1     13750  23.0  72937   Diesel  ...          0  2000.0      3  1165.0\n",
              "2     13950  24.0  41711   Diesel  ...          0  2000.0      3  1165.0\n",
              "3     14950  26.0  48000   Diesel  ...          0  2000.0      3  1165.0\n",
              "4     13750  30.0  38500   Diesel  ...          0  2000.0      3  1170.0\n",
              "...     ...   ...    ...      ...  ...        ...     ...    ...     ...\n",
              "1431   7500  69.0  20544   Petrol  ...          0  1300.0      3  1025.0\n",
              "1432  10845  72.0  19000   Petrol  ...          0  1300.0      3  1015.0\n",
              "1433   8500  71.0  17016   Petrol  ...          0  1300.0      3  1015.0\n",
              "1434   7250  70.0  16916   Petrol  ...          0  1300.0      3  1015.0\n",
              "1435   6950  76.0      1   Petrol  ...          0  1600.0      5  1114.0\n",
              "\n",
              "[1435 rows x 10 columns]"
            ]
          },
          "metadata": {
            "tags": []
          },
          "execution_count": 36
        }
      ]
    },
    {
      "cell_type": "markdown",
      "metadata": {
        "id": "RjajP7wT30jQ"
      },
      "source": [
        "#Building Model"
      ]
    },
    {
      "cell_type": "code",
      "metadata": {
        "id": "VUXmIzPY2VhI"
      },
      "source": [
        "TargetVariable='Price'\n",
        "Predictors=['Age', 'KM', 'Weight', 'HP', 'MetColor', 'CC', 'Doors']"
      ],
      "execution_count": 53,
      "outputs": []
    },
    {
      "cell_type": "code",
      "metadata": {
        "id": "6yirDwlV0l-m"
      },
      "source": [
        "X=DataForML\n",
        "y=CarPricesData['Price']"
      ],
      "execution_count": 54,
      "outputs": []
    },
    {
      "cell_type": "code",
      "metadata": {
        "id": "kbxCLrQM021X"
      },
      "source": [
        "### Sandardization of data ###\n",
        "from sklearn.preprocessing import MinMaxScaler\n",
        "PredictorScaler=MinMaxScaler()\n",
        "\n",
        "# Storing the fit object for later reference\n",
        "PredictorScalerFit=PredictorScaler.fit(X)\n",
        "\n",
        "# Generating the standardized values of X\n",
        "X=PredictorScalerFit.transform(X)\n",
        "\n",
        "# Split the data into training and testing set\n",
        "from sklearn.model_selection import train_test_split\n",
        "X_train, X_test, y_train, y_test = train_test_split(X, y, test_size=0.3)"
      ],
      "execution_count": 55,
      "outputs": []
    },
    {
      "cell_type": "markdown",
      "metadata": {
        "id": "-7jJ-P4z34E5"
      },
      "source": [
        "##Linear Regression"
      ]
    },
    {
      "cell_type": "code",
      "metadata": {
        "colab": {
          "base_uri": "https://localhost:8080/"
        },
        "id": "DFND6zfp17o9",
        "outputId": "7099b988-3992-45cb-efe1-509f6715e2fc"
      },
      "source": [
        "# Multiple Linear Regression\n",
        "from sklearn.linear_model import LinearRegression\n",
        "RegModel = LinearRegression()\n",
        "\n",
        "# Printing all the parameters of Linear regression\n",
        "print(RegModel)\n",
        "\n",
        "# Creating the model on Training Data\n",
        "LREG=RegModel.fit(X_train,y_train)\n",
        "prediction=LREG.predict(X_test)\n",
        "\n",
        "# Taking the standardized values to original scale\n",
        "\n",
        "\n",
        "from sklearn import metrics\n",
        "# Measuring Goodness of fit in Training data\n",
        "print('R2 Value:',metrics.r2_score(y_train, LREG.predict(X_train)))\n",
        "\n",
        "###########################################################################\n",
        "print('\\n##### Model Validation and Accuracy Calculations ##########')\n",
        "\n",
        "# Printing some sample values of prediction\n",
        "TestingDataResults=pd.DataFrame(data=X_test, columns=Predictors)\n",
        "TestingDataResults[TargetVariable]=y_test\n",
        "TestingDataResults[('Predicted'+TargetVariable)]=np.round(prediction)\n",
        "\n",
        "# Printing sample prediction values\n",
        "print(TestingDataResults[[TargetVariable,'Predicted'+TargetVariable]].head())\n",
        "\n",
        "# Calculating the error for each row\n",
        "TestingDataResults['APE']=100 * ((abs(\n",
        "  TestingDataResults['Price']-TestingDataResults['PredictedPrice']))/TestingDataResults['Price'])\n",
        "\n",
        "MAPE=np.mean(TestingDataResults['APE'])\n",
        "MedianMAPE=np.median(TestingDataResults['APE'])\n",
        "\n",
        "Accuracy =100 - MAPE\n",
        "MedianAccuracy=100- MedianMAPE\n",
        "print('Mean Accuracy on test data:', Accuracy) # Can be negative sometimes due to outlier\n",
        "print('Median Accuracy on test data:', MedianAccuracy)\n",
        "\n",
        "\n",
        "# Defining a custom function to calculate accuracy\n",
        "# Make sure there are no zeros in the Target variable if you are using MAPE\n",
        "def Accuracy_Score(orig,pred):\n",
        "    MAPE = np.mean(100 * (np.abs(orig-pred)/orig))\n",
        "    #print('#'*70,'Accuracy:', 100-MAPE)\n",
        "    return(100-MAPE)\n",
        "\n",
        "# Custom Scoring MAPE calculation\n",
        "from sklearn.metrics import make_scorer\n",
        "custom_Scoring=make_scorer(Accuracy_Score, greater_is_better=True)\n",
        "\n",
        "# Importing cross validation function from sklearn\n",
        "from sklearn.model_selection import cross_val_score\n",
        "\n",
        "# Running 10-Fold Cross validation on a given algorithm\n",
        "# Passing full data X and y because the K-fold will split the data and automatically choose train/test\n",
        "Accuracy_Values=cross_val_score(RegModel, X , y, cv=10, scoring=custom_Scoring)\n",
        "print('\\nAccuracy values for 10-fold Cross Validation:\\n',Accuracy_Values)\n",
        "print('\\nFinal Average Accuracy of the model:', round(Accuracy_Values.mean(),2))"
      ],
      "execution_count": 56,
      "outputs": [
        {
          "output_type": "stream",
          "text": [
            "LinearRegression(copy_X=True, fit_intercept=True, n_jobs=None, normalize=False)\n",
            "R2 Value: 0.8555096125775492\n",
            "\n",
            "##### Model Validation and Accuracy Calculations ##########\n",
            "     Price  PredictedPrice\n",
            "0      NaN         16676.0\n",
            "1  13750.0         11401.0\n",
            "2      NaN          8480.0\n",
            "3  14950.0         10123.0\n",
            "4  13750.0          8668.0\n",
            "Mean Accuracy on test data: 64.71577178558218\n",
            "Median Accuracy on test data: nan\n",
            "\n",
            "Accuracy values for 10-fold Cross Validation:\n",
            " [88.56760465 89.10169587 88.14261529 91.92822999 89.53895835 91.5881939\n",
            " 90.90567085 87.37511596 90.38793752 88.41900007]\n",
            "\n",
            "Final Average Accuracy of the model: 89.6\n"
          ],
          "name": "stdout"
        }
      ]
    },
    {
      "cell_type": "markdown",
      "metadata": {
        "id": "kiXrZVw637lb"
      },
      "source": [
        "##Decision Tree Regressor"
      ]
    },
    {
      "cell_type": "code",
      "metadata": {
        "colab": {
          "base_uri": "https://localhost:8080/",
          "height": 674
        },
        "id": "GSkIXoER17lW",
        "outputId": "e8351dbe-3f0c-4c3e-8eed-e69feb3e1f5f"
      },
      "source": [
        "# Decision Trees (Multiple if-else statements!)\n",
        "from sklearn.tree import DecisionTreeRegressor\n",
        "RegModel = DecisionTreeRegressor(max_depth=3,criterion='mse')\n",
        "# Good Range of Max_depth = 2 to 20\n",
        "\n",
        "# Printing all the parameters of Decision Tree\n",
        "print(RegModel)\n",
        "\n",
        "# Creating the model on Training Data\n",
        "DT=RegModel.fit(X_train,y_train)\n",
        "prediction=DT.predict(X_test)\n",
        "\n",
        "from sklearn import metrics\n",
        "# Measuring Goodness of fit in Training data\n",
        "print('R2 Value:',metrics.r2_score(y_train, DT.predict(X_train)))\n",
        "\n",
        "# Plotting the feature importance for Top 10 most important columns\n",
        "%matplotlib inline\n",
        "feature_importances = pd.Series(DT.feature_importances_, index=Predictors)\n",
        "feature_importances.nlargest(10).plot(kind='barh')\n",
        "\n",
        "###########################################################################\n",
        "print('\\n##### Model Validation and Accuracy Calculations ##########')\n",
        "\n",
        "# Printing some sample values of prediction\n",
        "TestingDataResults=pd.DataFrame(data=X_test, columns=Predictors)\n",
        "TestingDataResults[TargetVariable]=y_test\n",
        "TestingDataResults[('Predicted'+TargetVariable)]=np.round(prediction)\n",
        "\n",
        "# Printing sample prediction values\n",
        "print(TestingDataResults[[TargetVariable,'Predicted'+TargetVariable]].head())\n",
        "\n",
        "# Calculating the error for each row\n",
        "TestingDataResults['APE']=100 * ((abs(\n",
        "  TestingDataResults['Price']-TestingDataResults['PredictedPrice']))/TestingDataResults['Price'])\n",
        "\n",
        "MAPE=np.mean(TestingDataResults['APE'])\n",
        "MedianMAPE=np.median(TestingDataResults['APE'])\n",
        "\n",
        "Accuracy =100 - MAPE\n",
        "MedianAccuracy=100- MedianMAPE\n",
        "print('Mean Accuracy on test data:', Accuracy) # Can be negative sometimes due to outlier\n",
        "print('Median Accuracy on test data:', MedianAccuracy)\n",
        "\n",
        "\n",
        "# Defining a custom function to calculate accuracy\n",
        "# Make sure there are no zeros in the Target variable if you are using MAPE\n",
        "def Accuracy_Score(orig,pred):\n",
        "    MAPE = np.mean(100 * (np.abs(orig-pred)/orig))\n",
        "    #print('#'*70,'Accuracy:', 100-MAPE)\n",
        "    return(100-MAPE)\n",
        "\n",
        "# Custom Scoring MAPE calculation\n",
        "from sklearn.metrics import make_scorer\n",
        "custom_Scoring=make_scorer(Accuracy_Score, greater_is_better=True)\n",
        "\n",
        "# Importing cross validation function from sklearn\n",
        "from sklearn.model_selection import cross_val_score\n",
        "\n",
        "# Running 10-Fold Cross validation on a given algorithm\n",
        "# Passing full data X and y because the K-fold will split the data and automatically choose train/test\n",
        "Accuracy_Values=cross_val_score(RegModel, X , y, cv=10, scoring=custom_Scoring)\n",
        "print('\\nAccuracy values for 10-fold Cross Validation:\\n',Accuracy_Values)\n",
        "print('\\nFinal Average Accuracy of the model:', round(Accuracy_Values.mean(),2))"
      ],
      "execution_count": 57,
      "outputs": [
        {
          "output_type": "stream",
          "text": [
            "DecisionTreeRegressor(ccp_alpha=0.0, criterion='mse', max_depth=3,\n",
            "                      max_features=None, max_leaf_nodes=None,\n",
            "                      min_impurity_decrease=0.0, min_impurity_split=None,\n",
            "                      min_samples_leaf=1, min_samples_split=2,\n",
            "                      min_weight_fraction_leaf=0.0, presort='deprecated',\n",
            "                      random_state=None, splitter='best')\n",
            "R2 Value: 0.8556876622042626\n",
            "\n",
            "##### Model Validation and Accuracy Calculations ##########\n",
            "     Price  PredictedPrice\n",
            "0      NaN         16867.0\n",
            "1  13750.0         11735.0\n",
            "2      NaN          9418.0\n",
            "3  14950.0          9418.0\n",
            "4  13750.0          9418.0\n",
            "Mean Accuracy on test data: 65.04732209475719\n",
            "Median Accuracy on test data: nan\n",
            "\n",
            "Accuracy values for 10-fold Cross Validation:\n",
            " [83.45164595 87.52441085 86.11810534 86.07782878 86.58615835 90.54523664\n",
            " 91.78645028 85.63224193 91.26690628 89.39986216]\n",
            "\n",
            "Final Average Accuracy of the model: 87.84\n"
          ],
          "name": "stdout"
        },
        {
          "output_type": "display_data",
          "data": {
            "image/png": "[encoded data removed]",
            "text/plain": [
              "<Figure size 432x288 with 1 Axes>"
            ]
          },
          "metadata": {
            "tags": [],
            "needs_background": "light"
          }
        }
      ]
    },
    {
      "cell_type": "markdown",
      "metadata": {
        "id": "y7WABD_q3_d7"
      },
      "source": [
        "##Random Forest Regressor"
      ]
    },
    {
      "cell_type": "code",
      "metadata": {
        "colab": {
          "base_uri": "https://localhost:8080/",
          "height": 692
        },
        "id": "PyLxsriq17i3",
        "outputId": "3f9c9f4e-2cd3-4920-df1d-fa9d6b111f2c"
      },
      "source": [
        "# Random Forest (Bagging of multiple Decision Trees)\n",
        "from sklearn.ensemble import RandomForestRegressor\n",
        "RegModel = RandomForestRegressor(max_depth=3, n_estimators=100,criterion='mse')\n",
        "# Good range for max_depth: 2-10 and n_estimators: 100-1000\n",
        "\n",
        "# Printing all the parameters of Random Forest\n",
        "print(RegModel)\n",
        "\n",
        "# Creating the model on Training Data\n",
        "RF=RegModel.fit(X_train,y_train)\n",
        "prediction=RF.predict(X_test)\n",
        "\n",
        "from sklearn import metrics\n",
        "# Measuring Goodness of fit in Training data\n",
        "print('R2 Value:',metrics.r2_score(y_train, RF.predict(X_train)))\n",
        "\n",
        "# Plotting the feature importance for Top 10 most important columns\n",
        "%matplotlib inline\n",
        "feature_importances = pd.Series(RF.feature_importances_, index=Predictors)\n",
        "feature_importances.nlargest(10).plot(kind='barh')\n",
        "\n",
        "###########################################################################\n",
        "print('\\n##### Model Validation and Accuracy Calculations ##########')\n",
        "\n",
        "# Printing some sample values of prediction\n",
        "TestingDataResults=pd.DataFrame(data=X_test, columns=Predictors)\n",
        "TestingDataResults[TargetVariable]=y_test\n",
        "TestingDataResults[('Predicted'+TargetVariable)]=np.round(prediction)\n",
        "\n",
        "# Printing sample prediction values\n",
        "print(TestingDataResults[[TargetVariable,'Predicted'+TargetVariable]].head())\n",
        "\n",
        "# Calculating the error for each row\n",
        "TestingDataResults['APE']=100 * ((abs(\n",
        "  TestingDataResults['Price']-TestingDataResults['PredictedPrice']))/TestingDataResults['Price'])\n",
        "\n",
        "MAPE=np.mean(TestingDataResults['APE'])\n",
        "MedianMAPE=np.median(TestingDataResults['APE'])\n",
        "\n",
        "Accuracy =100 - MAPE\n",
        "MedianAccuracy=100- MedianMAPE\n",
        "print('Mean Accuracy on test data:', Accuracy) # Can be negative sometimes due to outlier\n",
        "print('Median Accuracy on test data:', MedianAccuracy)\n",
        "\n",
        "\n",
        "# Defining a custom function to calculate accuracy\n",
        "# Make sure there are no zeros in the Target variable if you are using MAPE\n",
        "def Accuracy_Score(orig,pred):\n",
        "    MAPE = np.mean(100 * (np.abs(orig-pred)/orig))\n",
        "    #print('#'*70,'Accuracy:', 100-MAPE)\n",
        "    return(100-MAPE)\n",
        "\n",
        "# Custom Scoring MAPE calculation\n",
        "from sklearn.metrics import make_scorer\n",
        "custom_Scoring=make_scorer(Accuracy_Score, greater_is_better=True)\n",
        "\n",
        "# Importing cross validation function from sklearn\n",
        "from sklearn.model_selection import cross_val_score\n",
        "\n",
        "# Running 10-Fold Cross validation on a given algorithm\n",
        "# Passing full data X and y because the K-fold will split the data and automatically choose train/test\n",
        "Accuracy_Values=cross_val_score(RegModel, X , y, cv=10, scoring=custom_Scoring)\n",
        "print('\\nAccuracy values for 10-fold Cross Validation:\\n',Accuracy_Values)\n",
        "print('\\nFinal Average Accuracy of the model:', round(Accuracy_Values.mean(),2))"
      ],
      "execution_count": 58,
      "outputs": [
        {
          "output_type": "stream",
          "text": [
            "RandomForestRegressor(bootstrap=True, ccp_alpha=0.0, criterion='mse',\n",
            "                      max_depth=3, max_features='auto', max_leaf_nodes=None,\n",
            "                      max_samples=None, min_impurity_decrease=0.0,\n",
            "                      min_impurity_split=None, min_samples_leaf=1,\n",
            "                      min_samples_split=2, min_weight_fraction_leaf=0.0,\n",
            "                      n_estimators=100, n_jobs=None, oob_score=False,\n",
            "                      random_state=None, verbose=0, warm_start=False)\n",
            "R2 Value: 0.8736282267134765\n",
            "\n",
            "##### Model Validation and Accuracy Calculations ##########\n",
            "     Price  PredictedPrice\n",
            "0      NaN         17004.0\n",
            "1  13750.0         11360.0\n",
            "2      NaN          9401.0\n",
            "3  14950.0          9772.0\n",
            "4  13750.0          9401.0\n",
            "Mean Accuracy on test data: 64.46484764060006\n",
            "Median Accuracy on test data: nan\n",
            "\n",
            "Accuracy values for 10-fold Cross Validation:\n",
            " [81.16517874 88.48632344 87.47255242 88.44643226 87.11582366 90.52908601\n",
            " 92.06497348 85.65580664 91.27951147 89.33075701]\n",
            "\n",
            "Final Average Accuracy of the model: 88.15\n"
          ],
          "name": "stdout"
        },
        {
          "output_type": "display_data",
          "data": {
            "image/png": "[encoded data removed]",
            "text/plain": [
              "<Figure size 432x288 with 1 Axes>"
            ]
          },
          "metadata": {
            "tags": [],
            "needs_background": "light"
          }
        }
      ]
    },
    {
      "cell_type": "markdown",
      "metadata": {
        "id": "XizfMDvk4DC7"
      },
      "source": [
        "##KNN"
      ]
    },
    {
      "cell_type": "code",
      "metadata": {
        "colab": {
          "base_uri": "https://localhost:8080/"
        },
        "id": "dZbFzjvD17gH",
        "outputId": "f458d943-34af-4e26-f7e2-616a23d41599"
      },
      "source": [
        "# K-Nearest Neighbor(KNN)\n",
        "from sklearn.neighbors import KNeighborsRegressor\n",
        "RegModel = KNeighborsRegressor(n_neighbors=3)\n",
        "\n",
        "# Printing all the parameters of KNN\n",
        "print(RegModel)\n",
        "\n",
        "# Creating the model on Training Data\n",
        "KNN=RegModel.fit(X_train,y_train)\n",
        "prediction=KNN.predict(X_test)\n",
        "\n",
        "from sklearn import metrics\n",
        "# Measuring Goodness of fit in Training data\n",
        "print('R2 Value:',metrics.r2_score(y_train, KNN.predict(X_train)))\n",
        "\n",
        "# Plotting the feature importance for Top 10 most important columns\n",
        "# The variable importance chart is not available for KNN\n",
        "\n",
        "###########################################################################\n",
        "print('\\n##### Model Validation and Accuracy Calculations ##########')\n",
        "\n",
        "# Printing some sample values of prediction\n",
        "TestingDataResults=pd.DataFrame(data=X_test, columns=Predictors)\n",
        "TestingDataResults[TargetVariable]=y_test\n",
        "TestingDataResults[('Predicted'+TargetVariable)]=np.round(prediction)\n",
        "\n",
        "# Printing sample prediction values\n",
        "print(TestingDataResults[[TargetVariable,'Predicted'+TargetVariable]].head())\n",
        "\n",
        "# Calculating the error for each row\n",
        "TestingDataResults['APE']=100 * ((abs(\n",
        "  TestingDataResults['Price']-TestingDataResults['PredictedPrice']))/TestingDataResults['Price'])\n",
        "\n",
        "MAPE=np.mean(TestingDataResults['APE'])\n",
        "MedianMAPE=np.median(TestingDataResults['APE'])\n",
        "\n",
        "Accuracy =100 - MAPE\n",
        "MedianAccuracy=100- MedianMAPE\n",
        "print('Mean Accuracy on test data:', Accuracy) # Can be negative sometimes due to outlier\n",
        "print('Median Accuracy on test data:', MedianAccuracy)\n",
        "\n",
        "# Defining a custom function to calculate accuracy\n",
        "# Make sure there are no zeros in the Target variable if you are using MAPE\n",
        "def Accuracy_Score(orig,pred):\n",
        "    MAPE = np.mean(100 * (np.abs(orig-pred)/orig))\n",
        "    #print('#'*70,'Accuracy:', 100-MAPE)\n",
        "    return(100-MAPE)\n",
        "\n",
        "# Custom Scoring MAPE calculation\n",
        "from sklearn.metrics import make_scorer\n",
        "custom_Scoring=make_scorer(Accuracy_Score, greater_is_better=True)\n",
        "\n",
        "# Importing cross validation function from sklearn\n",
        "from sklearn.model_selection import cross_val_score\n",
        "\n",
        "# Running 10-Fold Cross validation on a given algorithm\n",
        "# Passing full data X and y because the K-fold will split the data and automatically choose train/test\n",
        "Accuracy_Values=cross_val_score(RegModel, X , y, cv=10, scoring=custom_Scoring)\n",
        "print('\\nAccuracy values for 10-fold Cross Validation:\\n',Accuracy_Values)\n",
        "print('\\nFinal Average Accuracy of the model:', round(Accuracy_Values.mean(),2))"
      ],
      "execution_count": 59,
      "outputs": [
        {
          "output_type": "stream",
          "text": [
            "KNeighborsRegressor(algorithm='auto', leaf_size=30, metric='minkowski',\n",
            "                    metric_params=None, n_jobs=None, n_neighbors=3, p=2,\n",
            "                    weights='uniform')\n",
            "R2 Value: 0.9376579468637175\n",
            "\n",
            "##### Model Validation and Accuracy Calculations ##########\n",
            "     Price  PredictedPrice\n",
            "0      NaN         16317.0\n",
            "1  13750.0          9627.0\n",
            "2      NaN          8550.0\n",
            "3  14950.0          9700.0\n",
            "4  13750.0          8217.0\n",
            "Mean Accuracy on test data: 63.62346928074844\n",
            "Median Accuracy on test data: nan\n",
            "\n",
            "Accuracy values for 10-fold Cross Validation:\n",
            " [76.37865325 88.02051453 89.16946873 87.85989878 87.63782911 90.12642216\n",
            " 89.9031091  84.69153641 89.18649306 87.66152295]\n",
            "\n",
            "Final Average Accuracy of the model: 87.06\n"
          ],
          "name": "stdout"
        }
      ]
    },
    {
      "cell_type": "markdown",
      "metadata": {
        "id": "S0ZNg84J27kz"
      },
      "source": [
        "So,here we see that respect to different model 87-89% accuracy is coming, linear regression model gives the most accuracy with its simple algorithm which will reduce time complexity as well, So I choose 'Linear Regression Model' for this dataset Price prediction."
      ]
    }
  ]
}